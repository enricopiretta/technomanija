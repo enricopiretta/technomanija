{
 "cells": [
  {
   "cell_type": "code",
   "execution_count": 2,
   "metadata": {},
   "outputs": [
    {
     "name": "stdout",
     "output_type": "stream",
     "text": [
      "Requirement already satisfied: xlrd in /srv/conda/envs/notebook/lib/python3.6/site-packages (2.0.1)\n",
      "Requirement already satisfied: openpyxl in /srv/conda/envs/notebook/lib/python3.6/site-packages (3.0.9)\n",
      "Requirement already satisfied: et-xmlfile in /srv/conda/envs/notebook/lib/python3.6/site-packages (from openpyxl) (1.1.0)\n"
     ]
    },
    {
     "data": {
      "text/html": [
       "<div>\n",
       "<style scoped>\n",
       "    .dataframe tbody tr th:only-of-type {\n",
       "        vertical-align: middle;\n",
       "    }\n",
       "\n",
       "    .dataframe tbody tr th {\n",
       "        vertical-align: top;\n",
       "    }\n",
       "\n",
       "    .dataframe thead th {\n",
       "        text-align: right;\n",
       "    }\n",
       "</style>\n",
       "<table border=\"1\" class=\"dataframe\">\n",
       "  <thead>\n",
       "    <tr style=\"text-align: right;\">\n",
       "      <th></th>\n",
       "      <th>Date</th>\n",
       "      <th>Time</th>\n",
       "      <th>Banner</th>\n",
       "      <th>Channel</th>\n",
       "      <th>transaction_id</th>\n",
       "      <th>seq_number</th>\n",
       "      <th>product_id</th>\n",
       "      <th>retail_id</th>\n",
       "      <th>payment_method</th>\n",
       "      <th>quantity</th>\n",
       "      <th>total_amount</th>\n",
       "      <th>total_purchase</th>\n",
       "      <th>sales_price</th>\n",
       "      <th>sales_price_tax</th>\n",
       "      <th>purchase_price</th>\n",
       "      <th>price_diff</th>\n",
       "    </tr>\n",
       "  </thead>\n",
       "  <tbody>\n",
       "    <tr>\n",
       "      <th>0</th>\n",
       "      <td>2021-12-01</td>\n",
       "      <td>06:51</td>\n",
       "      <td>Tehnomanija</td>\n",
       "      <td>B2B</td>\n",
       "      <td>110055221</td>\n",
       "      <td>1</td>\n",
       "      <td>135226</td>\n",
       "      <td>1100</td>\n",
       "      <td>6</td>\n",
       "      <td>1</td>\n",
       "      <td>25989.99996</td>\n",
       "      <td>19083.00</td>\n",
       "      <td>21658.3333</td>\n",
       "      <td>25989.99996</td>\n",
       "      <td>19083.00</td>\n",
       "      <td>2575.3333</td>\n",
       "    </tr>\n",
       "    <tr>\n",
       "      <th>1</th>\n",
       "      <td>2021-12-01</td>\n",
       "      <td>06:51</td>\n",
       "      <td>Tehnomanija</td>\n",
       "      <td>B2B</td>\n",
       "      <td>110055221</td>\n",
       "      <td>2</td>\n",
       "      <td>137166</td>\n",
       "      <td>1100</td>\n",
       "      <td>6</td>\n",
       "      <td>1</td>\n",
       "      <td>9990.00000</td>\n",
       "      <td>9707.61</td>\n",
       "      <td>8325.0000</td>\n",
       "      <td>9990.00000</td>\n",
       "      <td>9707.61</td>\n",
       "      <td>-1382.6100</td>\n",
       "    </tr>\n",
       "    <tr>\n",
       "      <th>2</th>\n",
       "      <td>2021-12-01</td>\n",
       "      <td>06:51</td>\n",
       "      <td>Tehnomanija</td>\n",
       "      <td>B2B</td>\n",
       "      <td>110055221</td>\n",
       "      <td>3</td>\n",
       "      <td>142961</td>\n",
       "      <td>1100</td>\n",
       "      <td>6</td>\n",
       "      <td>1</td>\n",
       "      <td>40989.99996</td>\n",
       "      <td>35276.00</td>\n",
       "      <td>34158.3333</td>\n",
       "      <td>40989.99996</td>\n",
       "      <td>35276.00</td>\n",
       "      <td>-1117.6667</td>\n",
       "    </tr>\n",
       "    <tr>\n",
       "      <th>3</th>\n",
       "      <td>2021-12-01</td>\n",
       "      <td>06:51</td>\n",
       "      <td>Tehnomanija</td>\n",
       "      <td>B2B</td>\n",
       "      <td>110055221</td>\n",
       "      <td>4</td>\n",
       "      <td>157291</td>\n",
       "      <td>1100</td>\n",
       "      <td>6</td>\n",
       "      <td>1</td>\n",
       "      <td>38390.00004</td>\n",
       "      <td>33993.20</td>\n",
       "      <td>31991.6667</td>\n",
       "      <td>38390.00004</td>\n",
       "      <td>33993.20</td>\n",
       "      <td>-2001.5333</td>\n",
       "    </tr>\n",
       "    <tr>\n",
       "      <th>4</th>\n",
       "      <td>2021-12-01</td>\n",
       "      <td>06:56</td>\n",
       "      <td>Tehnomanija</td>\n",
       "      <td>B2B</td>\n",
       "      <td>110055222</td>\n",
       "      <td>1</td>\n",
       "      <td>142776</td>\n",
       "      <td>1100</td>\n",
       "      <td>6</td>\n",
       "      <td>1</td>\n",
       "      <td>12990.00000</td>\n",
       "      <td>10700.00</td>\n",
       "      <td>10825.0000</td>\n",
       "      <td>12990.00000</td>\n",
       "      <td>10700.00</td>\n",
       "      <td>125.0000</td>\n",
       "    </tr>\n",
       "  </tbody>\n",
       "</table>\n",
       "</div>"
      ],
      "text/plain": [
       "        Date   Time       Banner Channel  transaction_id   seq_number  \\\n",
       "0 2021-12-01  06:51  Tehnomanija     B2B        110055221           1   \n",
       "1 2021-12-01  06:51  Tehnomanija     B2B        110055221           2   \n",
       "2 2021-12-01  06:51  Tehnomanija     B2B        110055221           3   \n",
       "3 2021-12-01  06:51  Tehnomanija     B2B        110055221           4   \n",
       "4 2021-12-01  06:56  Tehnomanija     B2B        110055222           1   \n",
       "\n",
       "   product_id  retail_id  payment_method  quantity  total_amount  \\\n",
       "0      135226       1100               6         1   25989.99996   \n",
       "1      137166       1100               6         1    9990.00000   \n",
       "2      142961       1100               6         1   40989.99996   \n",
       "3      157291       1100               6         1   38390.00004   \n",
       "4      142776       1100               6         1   12990.00000   \n",
       "\n",
       "   total_purchase  sales_price   sales_price_tax   purchase_price  price_diff   \n",
       "0        19083.00    21658.3333       25989.99996        19083.00    2575.3333  \n",
       "1         9707.61     8325.0000        9990.00000         9707.61   -1382.6100  \n",
       "2        35276.00    34158.3333       40989.99996        35276.00   -1117.6667  \n",
       "3        33993.20    31991.6667       38390.00004        33993.20   -2001.5333  \n",
       "4        10700.00    10825.0000       12990.00000        10700.00     125.0000  "
      ]
     },
     "execution_count": 2,
     "metadata": {},
     "output_type": "execute_result"
    }
   ],
   "source": [
    "import pandas as pd\n",
    "import matplotlib.pyplot as plt\n",
    "%matplotlib inline\n",
    "import numpy as np\n",
    "!pip install xlrd\n",
    "!pip install openpyxl\n",
    "\n",
    "df = pd.read_excel('Sales data.xlsx', engine='openpyxl')\n",
    "df.head()"
   ]
  },
  {
   "cell_type": "code",
   "execution_count": 6,
   "metadata": {},
   "outputs": [
    {
     "data": {
      "text/plain": [
       "(54111, 17)"
      ]
     },
     "execution_count": 6,
     "metadata": {},
     "output_type": "execute_result"
    }
   ],
   "source": [
    "df.shape"
   ]
  },
  {
   "cell_type": "code",
   "execution_count": 7,
   "metadata": {},
   "outputs": [
    {
     "data": {
      "text/plain": [
       "161550    1208\n",
       "156653     802\n",
       "161549     746\n",
       "900025     595\n",
       "156654     519\n",
       "          ... \n",
       "155020       1\n",
       "147423       1\n",
       "149488       1\n",
       "105844       1\n",
       "154355       1\n",
       "Name: product_id, Length: 6642, dtype: int64"
      ]
     },
     "execution_count": 7,
     "metadata": {},
     "output_type": "execute_result"
    }
   ],
   "source": [
    "'''Lets count the number of products'''\n",
    "df.product_id.value_counts()"
   ]
  },
  {
   "cell_type": "code",
   "execution_count": 5,
   "metadata": {},
   "outputs": [],
   "source": [
    "df['purchase_price'] = np.where(df['purchase_price'] == 0, df['sales_price '], df['purchase_price'])\n",
    "df['sales_price '] = np.where(df['sales_price '] == 0, df['purchase_price'], df['sales_price '])\n",
    "\n",
    "df['ratio'] = df['sales_price '] / df.purchase_price"
   ]
  },
  {
   "cell_type": "code",
   "execution_count": 7,
   "metadata": {},
   "outputs": [
    {
     "data": {
      "text/plain": [
       "<AxesSubplot:>"
      ]
     },
     "execution_count": 7,
     "metadata": {},
     "output_type": "execute_result"
    },
    {
     "data": {
      "image/png": "[encoded data removed]",
      "text/plain": [
       "<Figure size 432x288 with 1 Axes>"
      ]
     },
     "metadata": {
      "needs_background": "light"
     },
     "output_type": "display_data"
    }
   ],
   "source": [
    "df.boxplot(column=['ratio'])"
   ]
  },
  {
   "cell_type": "code",
   "execution_count": 4,
   "metadata": {},
   "outputs": [
    {
     "data": {
      "text/plain": [
       "19782    4991.670000\n",
       "5464     1491.667500\n",
       "28045    1199.860169\n",
       "44876    1199.860169\n",
       "44877    1199.860169\n",
       "Name: ratio, dtype: float64"
      ]
     },
     "execution_count": 4,
     "metadata": {},
     "output_type": "execute_result"
    }
   ],
   "source": [
    "df['ratio'].nlargest(5)"
   ]
  },
  {
   "cell_type": "code",
   "execution_count": 12,
   "metadata": {},
   "outputs": [
    {
     "name": "stdout",
     "output_type": "stream",
     "text": [
      "96.35 %\n"
     ]
    }
   ],
   "source": [
    "'''Margin without tax'''\n",
    "print(round(100*(df['ratio'].mean()-1), 2), '%')"
   ]
  },
  {
   "cell_type": "code",
   "execution_count": 13,
   "metadata": {},
   "outputs": [
    {
     "data": {
      "text/plain": [
       "29.146620128174046"
      ]
     },
     "execution_count": 13,
     "metadata": {},
     "output_type": "execute_result"
    }
   ],
   "source": [
    "'''Standard deviation margin'''\n",
    "np.std(df['ratio'])"
   ]
  },
  {
   "cell_type": "code",
   "execution_count": 14,
   "metadata": {},
   "outputs": [
    {
     "data": {
      "text/plain": [
       "<matplotlib.collections.PathCollection at 0x7f14992a1dd8>"
      ]
     },
     "execution_count": 14,
     "metadata": {},
     "output_type": "execute_result"
    },
    {
     "data": {
      "image/png": "[encoded data removed]",
      "text/plain": [
       "<Figure size 432x288 with 1 Axes>"
      ]
     },
     "metadata": {
      "needs_background": "light"
     },
     "output_type": "display_data"
    }
   ],
   "source": [
    "plt.scatter(df.ratio, np.ones(len(df.ratio)))"
   ]
  },
  {
   "cell_type": "code",
   "execution_count": 15,
   "metadata": {},
   "outputs": [
    {
     "data": {
      "text/plain": [
       "<matplotlib.collections.PathCollection at 0x7f14995f37b8>"
      ]
     },
     "execution_count": 15,
     "metadata": {},
     "output_type": "execute_result"
    },
    {
     "data": {
      "image/png": "[encoded data removed]",
      "text/plain": [
       "<Figure size 432x288 with 1 Axes>"
      ]
     },
     "metadata": {
      "needs_background": "light"
     },
     "output_type": "display_data"
    }
   ],
   "source": [
    "plt.scatter(df.purchase_price, df['sales_price '])"
   ]
  },
  {
   "cell_type": "markdown",
   "metadata": {},
   "source": [
    "# Welcome to Jupyter!"
   ]
  },
  {
   "cell_type": "markdown",
   "metadata": {},
   "source": [
    "This repo contains an introduction to [Jupyter](https://jupyter.org) and [IPython](https://ipython.org).\n",
    "\n",
    "Outline of some basics:\n",
    "\n",
    "* [Notebook Basics](../examples/Notebook/Notebook%20Basics.ipynb)\n",
    "* [IPython - beyond plain python](../examples/IPython%20Kernel/Beyond%20Plain%20Python.ipynb)\n",
    "* [Markdown Cells](../examples/Notebook/Working%20With%20Markdown%20Cells.ipynb)\n",
    "* [Rich Display System](../examples/IPython%20Kernel/Rich%20Output.ipynb)\n",
    "* [Custom Display logic](../examples/IPython%20Kernel/Custom%20Display%20Logic.ipynb)\n",
    "* [Running a Secure Public Notebook Server](../examples/Notebook/Running%20the%20Notebook%20Server.ipynb#Securing-the-notebook-server)\n",
    "* [How Jupyter works](../examples/Notebook/Multiple%20Languages%2C%20Frontends.ipynb) to run code in different languages."
   ]
  },
  {
   "cell_type": "markdown",
   "metadata": {},
   "source": [
    "You can also get this tutorial and run it on your laptop:\n",
    "\n",
    "    git clone https://github.com/ipython/ipython-in-depth\n",
    "\n",
    "Install IPython and Jupyter:\n",
    "\n",
    "with [conda](https://www.anaconda.com/download):\n",
    "\n",
    "    conda install ipython jupyter\n",
    "\n",
    "with pip:\n",
    "\n",
    "    # first, always upgrade pip!\n",
    "    pip install --upgrade pip\n",
    "    pip install --upgrade ipython jupyter\n",
    "\n",
    "Start the notebook in the tutorial directory:\n",
    "\n",
    "    cd ipython-in-depth\n",
    "    jupyter notebook"
   ]
  }
 ],
 "metadata": {
  "kernelspec": {
   "display_name": "Python 3",
   "language": "python",
   "name": "python3"
  },
  "language_info": {
   "codemirror_mode": {
    "name": "ipython",
    "version": 3
   },
   "file_extension": ".py",
   "mimetype": "text/x-python",
   "name": "python",
   "nbconvert_exporter": "python",
   "pygments_lexer": "ipython3",
   "version": "3.6.13"
  }
 },
 "nbformat": 4,
 "nbformat_minor": 2
}
